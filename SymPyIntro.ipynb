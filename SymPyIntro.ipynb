{
 "cells": [
  {
   "cell_type": "code",
   "execution_count": 1,
   "metadata": {
    "collapsed": true
   },
   "outputs": [],
   "source": [
    "from sympy import *\n",
    "init_printing()"
   ]
  },
  {
   "cell_type": "markdown",
   "metadata": {},
   "source": [
    "## Symbols"
   ]
  },
  {
   "cell_type": "code",
   "execution_count": 2,
   "metadata": {
    "collapsed": true
   },
   "outputs": [],
   "source": [
    "x, mu, sigma = symbols('x mu sigma')"
   ]
  },
  {
   "cell_type": "code",
   "execution_count": 3,
   "metadata": {
    "collapsed": false
   },
   "outputs": [
    {
     "data": {
      "image/png": "[encoded data removed]",
      "text/latex": [
       "$$\\mu + \\sigma$$"
      ],
      "text/plain": [
       "μ + σ"
      ]
     },
     "execution_count": 3,
     "metadata": {},
     "output_type": "execute_result"
    }
   ],
   "source": [
    "mu + sigma"
   ]
  },
  {
   "cell_type": "code",
   "execution_count": 4,
   "metadata": {
    "collapsed": false
   },
   "outputs": [
    {
     "data": {
      "image/png": "[encoded data removed]",
      "text/latex": [
       "$$\\mu \\sigma$$"
      ],
      "text/plain": [
       "μ⋅σ"
      ]
     },
     "execution_count": 4,
     "metadata": {},
     "output_type": "execute_result"
    }
   ],
   "source": [
    "mu * sigma"
   ]
  },
  {
   "cell_type": "code",
   "execution_count": 5,
   "metadata": {
    "collapsed": false
   },
   "outputs": [
    {
     "data": {
      "image/png": "[encoded data removed]",
      "text/latex": [
       "$$e^{- \\frac{1}{\\sigma^{2}} \\left(- \\mu + x\\right)^{2}}$$"
      ],
      "text/plain": [
       "          2 \n",
       " -(-μ + x)  \n",
       " ───────────\n",
       "       2    \n",
       "      σ     \n",
       "ℯ           "
      ]
     },
     "execution_count": 5,
     "metadata": {},
     "output_type": "execute_result"
    }
   ],
   "source": [
    "bell = exp(-(x - mu)**2 / sigma**2)\n",
    "bell"
   ]
  },
  {
   "cell_type": "markdown",
   "metadata": {},
   "source": [
    "## Numerical Evaluation"
   ]
  },
  {
   "cell_type": "code",
   "execution_count": 6,
   "metadata": {
    "collapsed": false
   },
   "outputs": [
    {
     "data": {
      "image/png": "[encoded data removed]",
      "text/latex": [
       "$$e^{- \\frac{\\mu^{2}}{\\sigma^{2}}}$$"
      ],
      "text/plain": [
       "   2 \n",
       " -μ  \n",
       " ────\n",
       "   2 \n",
       "  σ  \n",
       "ℯ    "
      ]
     },
     "execution_count": 6,
     "metadata": {},
     "output_type": "execute_result"
    }
   ],
   "source": [
    "bell.subs(x, 0)"
   ]
  },
  {
   "cell_type": "code",
   "execution_count": 7,
   "metadata": {
    "collapsed": false
   },
   "outputs": [
    {
     "data": {
      "image/png": "[encoded data removed]",
      "text/latex": [
       "$$3.141592653589793238462643383279502884197169399375105820974944592307816406286208998628034825342117067982148086513282306647093844609550582231725359408128481117450284102701938521105559644622948954930382$$"
      ],
      "text/plain": [
       "3.1415926535897932384626433832795028841971693993751058209749445923078164062862\n",
       "089986280348253421170679821480865132823066470938446095505822317253594081284811\n",
       "174502841027019385211055596446229489549303820"
      ]
     },
     "execution_count": 7,
     "metadata": {},
     "output_type": "execute_result"
    }
   ],
   "source": [
    "pi.evalf(n=200)"
   ]
  },
  {
   "cell_type": "markdown",
   "metadata": {},
   "source": [
    "## Differentiation"
   ]
  },
  {
   "cell_type": "code",
   "execution_count": 8,
   "metadata": {
    "collapsed": false
   },
   "outputs": [
    {
     "data": {
      "image/png": "[encoded data removed]",
      "text/latex": [
       "$$- \\frac{1}{\\sigma^{2}} \\left(- 2 \\mu + 2 x\\right) e^{- \\frac{1}{\\sigma^{2}} \\left(- \\mu + x\\right)^{2}}$$"
      ],
      "text/plain": [
       "                        2  \n",
       "               -(-μ + x)   \n",
       "               ─────────── \n",
       "                     2     \n",
       "                    σ      \n",
       "-(-2⋅μ + 2⋅x)⋅ℯ            \n",
       "───────────────────────────\n",
       "              2            \n",
       "             σ             "
      ]
     },
     "execution_count": 8,
     "metadata": {},
     "output_type": "execute_result"
    }
   ],
   "source": [
    "bell.diff(x)"
   ]
  },
  {
   "cell_type": "code",
   "execution_count": 9,
   "metadata": {
    "collapsed": false
   },
   "outputs": [
    {
     "data": {
      "image/png": "[encoded data removed]",
      "text/latex": [
       "$$- \\frac{1}{\\sigma^{2}} \\left(2 \\mu - 2 x\\right) e^{- \\frac{1}{\\sigma^{2}} \\left(- \\mu + x\\right)^{2}}$$"
      ],
      "text/plain": [
       "                       2  \n",
       "              -(-μ + x)   \n",
       "              ─────────── \n",
       "                    2     \n",
       "                   σ      \n",
       "-(2⋅μ - 2⋅x)⋅ℯ            \n",
       "──────────────────────────\n",
       "             2            \n",
       "            σ             "
      ]
     },
     "execution_count": 9,
     "metadata": {},
     "output_type": "execute_result"
    }
   ],
   "source": [
    "bell.diff(mu)"
   ]
  },
  {
   "cell_type": "markdown",
   "metadata": {},
   "source": [
    "## Integration"
   ]
  },
  {
   "cell_type": "code",
   "execution_count": 10,
   "metadata": {
    "collapsed": false
   },
   "outputs": [
    {
     "data": {
      "image/png": "[encoded data removed]",
      "text/latex": [
       "$$\\frac{x^{3}}{3}$$"
      ],
      "text/plain": [
       " 3\n",
       "x \n",
       "──\n",
       "3 "
      ]
     },
     "execution_count": 10,
     "metadata": {},
     "output_type": "execute_result"
    }
   ],
   "source": [
    "integrate(x**2, x)"
   ]
  },
  {
   "cell_type": "code",
   "execution_count": 11,
   "metadata": {
    "collapsed": false
   },
   "outputs": [
    {
     "data": {
      "image/png": "[encoded data removed]",
      "text/latex": [
       "$$9$$"
      ],
      "text/plain": [
       "9"
      ]
     },
     "execution_count": 11,
     "metadata": {},
     "output_type": "execute_result"
    }
   ],
   "source": [
    "integrate(x**2, (x, 0, 3))"
   ]
  },
  {
   "cell_type": "markdown",
   "metadata": {},
   "source": [
    "## Series Expansion"
   ]
  },
  {
   "cell_type": "code",
   "execution_count": 12,
   "metadata": {
    "collapsed": true
   },
   "outputs": [],
   "source": [
    "trig = sin(x)"
   ]
  },
  {
   "cell_type": "code",
   "execution_count": 13,
   "metadata": {
    "collapsed": false
   },
   "outputs": [
    {
     "data": {
      "image/png": "[encoded data removed]",
      "text/latex": [
       "$$x - \\frac{x^{3}}{6} + \\frac{x^{5}}{120} - \\frac{x^{7}}{5040} + \\frac{x^{9}}{362880} + \\mathcal{O}\\left(x^{10}\\right)$$"
      ],
      "text/plain": [
       "     3     5     7       9           \n",
       "    x     x     x       x       ⎛ 10⎞\n",
       "x - ── + ─── - ──── + ────── + O⎝x  ⎠\n",
       "    6    120   5040   362880         "
      ]
     },
     "execution_count": 13,
     "metadata": {},
     "output_type": "execute_result"
    }
   ],
   "source": [
    "series(trig, x, 0, 10)"
   ]
  },
  {
   "cell_type": "code",
   "execution_count": 14,
   "metadata": {
    "collapsed": false
   },
   "outputs": [],
   "source": [
    "f = fps(trig, x)"
   ]
  },
  {
   "cell_type": "code",
   "execution_count": 15,
   "metadata": {
    "collapsed": false
   },
   "outputs": [
    {
     "data": {
      "text/latex": [
       "$$x + \\sum_{k=2}^{\\infty} \\begin{cases} \\frac{\\left(- \\frac{1}{4}\\right)^{\\frac{k}{2} - \\frac{1}{2}} x^{k}}{{\\left(\\frac{3}{2}\\right)}^{\\left(\\frac{k}{2} - \\frac{1}{2}\\right)} \\left(\\frac{k}{2} - \\frac{1}{2}\\right)!} & \\text{for}\\: \\operatorname{Mod}{\\left (k,2 \\right )} = 1 \\\\0 & \\text{otherwise} \\end{cases}$$"
      ],
      "text/plain": [
       "       ∞                                                             \n",
       "    ________                                                         \n",
       "    ╲                                                                \n",
       "     ╲       ⎧                k   1                                  \n",
       "      ╲      ⎪                ─ - ─                                  \n",
       "       ╲     ⎪                2   2  k                               \n",
       "        ╲    ⎪            -1/4     ⋅x                                \n",
       "         ╲   ⎪────────────────────────────────────  for Mod(k, 2) = 1\n",
       "          ╲  ⎨               ⎛     k   1⎞ ⎛k   1⎞                    \n",
       "x +       ╱  ⎪RisingFactorial⎜3/2, ─ - ─⎟⋅⎜─ - ─⎟!                   \n",
       "         ╱   ⎪               ⎝     2   2⎠ ⎝2   2⎠                    \n",
       "        ╱    ⎪                                                       \n",
       "       ╱     ⎪                 0                        otherwise    \n",
       "      ╱      ⎩                                                       \n",
       "     ╱                                                               \n",
       "    ╱                                                                \n",
       "    ‾‾‾‾‾‾‾‾                                                         \n",
       "     k = 2                                                           "
      ]
     },
     "execution_count": 15,
     "metadata": {},
     "output_type": "execute_result"
    }
   ],
   "source": [
    "f.infinite"
   ]
  },
  {
   "cell_type": "code",
   "execution_count": 16,
   "metadata": {
    "collapsed": false
   },
   "outputs": [
    {
     "data": {
      "image/png": "[encoded data removed]",
      "text/latex": [
       "$$x - \\frac{x^{3}}{6} + \\frac{x^{5}}{120} - \\frac{x^{7}}{5040} + \\frac{x^{9}}{362880} + \\mathcal{O}\\left(x^{10}\\right)$$"
      ],
      "text/plain": [
       "     3     5     7       9           \n",
       "    x     x     x       x       ⎛ 10⎞\n",
       "x - ── + ─── - ──── + ────── + O⎝x  ⎠\n",
       "    6    120   5040   362880         "
      ]
     },
     "execution_count": 16,
     "metadata": {},
     "output_type": "execute_result"
    }
   ],
   "source": [
    "f.truncate(10)"
   ]
  },
  {
   "cell_type": "markdown",
   "metadata": {},
   "source": [
    "## Solveset"
   ]
  },
  {
   "cell_type": "code",
   "execution_count": 17,
   "metadata": {
    "collapsed": false
   },
   "outputs": [
    {
     "data": {
      "image/png": "[encoded data removed]",
      "text/latex": [
       "$$\\left\\{-2, 2\\right\\}$$"
      ],
      "text/plain": [
       "{-2, 2}"
      ]
     },
     "execution_count": 17,
     "metadata": {},
     "output_type": "execute_result"
    }
   ],
   "source": [
    "solveset(x**2 - 4, x) "
   ]
  },
  {
   "cell_type": "code",
   "execution_count": 18,
   "metadata": {
    "collapsed": false
   },
   "outputs": [
    {
     "data": {
      "image/png": "[encoded data removed]",
      "text/latex": [
       "$$\\left\\{2 n \\pi + \\frac{\\pi}{2}\\; |\\; n \\in \\mathbb{Z}\\right\\}$$"
      ],
      "text/plain": [
       "⎧        π        ⎫\n",
       "⎨2⋅n⋅π + ─ | n ∊ ℤ⎬\n",
       "⎩        2        ⎭"
      ]
     },
     "execution_count": 18,
     "metadata": {},
     "output_type": "execute_result"
    }
   ],
   "source": [
    "solveset(sin(x) - 1, x) # infinite solutions"
   ]
  },
  {
   "cell_type": "code",
   "execution_count": 19,
   "metadata": {
    "collapsed": false
   },
   "outputs": [
    {
     "data": {
      "image/png": "[encoded data removed]",
      "text/latex": [
       "$$\\left\\{2 n i \\pi\\; |\\; n \\in \\mathbb{Z}\\right\\}$$"
      ],
      "text/plain": [
       "{2⋅n⋅ⅈ⋅π | n ∊ ℤ}"
      ]
     },
     "execution_count": 19,
     "metadata": {},
     "output_type": "execute_result"
    }
   ],
   "source": [
    "solveset(exp(x) - 1, x) # domain"
   ]
  },
  {
   "cell_type": "code",
   "execution_count": 20,
   "metadata": {
    "collapsed": false
   },
   "outputs": [
    {
     "data": {
      "image/png": "[encoded data removed]",
      "text/latex": [
       "$$\\left\\{0\\right\\}$$"
      ],
      "text/plain": [
       "{0}"
      ]
     },
     "execution_count": 20,
     "metadata": {},
     "output_type": "execute_result"
    }
   ],
   "source": [
    "solveset(exp(x) - 1, x, domain=S.Reals) # domain"
   ]
  },
  {
   "cell_type": "code",
   "execution_count": 21,
   "metadata": {
    "collapsed": false
   },
   "outputs": [
    {
     "data": {
      "image/png": "[encoded data removed]",
      "text/latex": [
       "$$\\left\\{x\\; |\\; x \\in \\mathbb{R} \\wedge e^{x} + \\cos{\\left (x \\right )} + 1 = 0 \\right\\}$$"
      ],
      "text/plain": [
       "⎧             x                 ⎫\n",
       "⎨x | x ∊ ℝ ∧ ℯ  + cos(x) + 1 = 0⎬\n",
       "⎩                               ⎭"
      ]
     },
     "execution_count": 21,
     "metadata": {},
     "output_type": "execute_result"
    }
   ],
   "source": [
    "solveset(exp(x) + cos(x) + 1, x, domain=S.Reals) # condition set"
   ]
  },
  {
   "cell_type": "markdown",
   "metadata": {},
   "source": [
    "## Matrices"
   ]
  },
  {
   "cell_type": "code",
   "execution_count": 22,
   "metadata": {
    "collapsed": true
   },
   "outputs": [],
   "source": [
    "r, theta = symbols('r theta')"
   ]
  },
  {
   "cell_type": "code",
   "execution_count": 23,
   "metadata": {
    "collapsed": false
   },
   "outputs": [
    {
     "data": {
      "text/latex": [
       "$$\\left[\\begin{matrix}r \\cos{\\left (\\theta \\right )} & - r \\sin{\\left (\\theta \\right )}\\\\r \\sin{\\left (\\theta \\right )} & r \\cos{\\left (\\theta \\right )}\\end{matrix}\\right]$$"
      ],
      "text/plain": [
       "⎡r⋅cos(θ)  -r⋅sin(θ)⎤\n",
       "⎢                   ⎥\n",
       "⎣r⋅sin(θ)  r⋅cos(θ) ⎦"
      ]
     },
     "execution_count": 23,
     "metadata": {},
     "output_type": "execute_result"
    }
   ],
   "source": [
    "rot = Matrix([[r*cos(theta), -r*sin(theta)],\n",
    "              [r*sin(theta),  r*cos(theta)]])\n",
    "rot"
   ]
  },
  {
   "cell_type": "code",
   "execution_count": 24,
   "metadata": {
    "collapsed": false
   },
   "outputs": [
    {
     "data": {
      "image/png": "[encoded data removed]",
      "text/latex": [
       "$$\\left [ \\sqrt{r \\sqrt{\\cos^{2}{\\left (\\theta - \\overline{\\theta} \\right )} - 1} \\overline{r} + r \\cos{\\left (\\theta - \\overline{\\theta} \\right )} \\overline{r}}, \\quad \\sqrt{- r \\sqrt{\\cos^{2}{\\left (\\theta - \\overline{\\theta} \\right )} - 1} \\overline{r} + r \\cos{\\left (\\theta - \\overline{\\theta} \\right )} \\overline{r}}\\right ]$$"
      ],
      "text/plain": [
       "⎡    ___________________________________________      ________________________\n",
       "⎢   ╱      _________________                         ╱        ________________\n",
       "⎢  ╱      ╱    2⎛    _⎞      _        ⎛    _⎞ _     ╱        ╱    2⎛    _⎞    \n",
       "⎣╲╱   r⋅╲╱  cos ⎝θ - θ⎠ - 1 ⋅r + r⋅cos⎝θ - θ⎠⋅r , ╲╱   - r⋅╲╱  cos ⎝θ - θ⎠ - 1\n",
       "\n",
       "_____________________⎤\n",
       "_                    ⎥\n",
       "  _        ⎛    _⎞ _ ⎥\n",
       " ⋅r + r⋅cos⎝θ - θ⎠⋅r ⎦"
      ]
     },
     "execution_count": 24,
     "metadata": {},
     "output_type": "execute_result"
    }
   ],
   "source": [
    "rot.singular_values()"
   ]
  },
  {
   "cell_type": "code",
   "execution_count": 25,
   "metadata": {
    "collapsed": false
   },
   "outputs": [
    {
     "data": {
      "image/png": "[encoded data removed]",
      "text/latex": [
       "$$\\left \\{ r \\left(- \\sqrt{\\left(\\cos{\\left (\\theta \\right )} - 1\\right) \\left(\\cos{\\left (\\theta \\right )} + 1\\right)} + \\cos{\\left (\\theta \\right )}\\right) : 1, \\quad r \\left(\\sqrt{\\left(\\cos{\\left (\\theta \\right )} - 1\\right) \\left(\\cos{\\left (\\theta \\right )} + 1\\right)} + \\cos{\\left (\\theta \\right )}\\right) : 1\\right \\}$$"
      ],
      "text/plain": [
       "⎧  ⎛    ___________________________         ⎞       ⎛  _______________________\n",
       "⎨r⋅⎝- ╲╱ (cos(θ) - 1)⋅(cos(θ) + 1)  + cos(θ)⎠: 1, r⋅⎝╲╱ (cos(θ) - 1)⋅(cos(θ) +\n",
       "⎩                                                                             \n",
       "\n",
       "____         ⎞   ⎫\n",
       " 1)  + cos(θ)⎠: 1⎬\n",
       "                 ⎭"
      ]
     },
     "execution_count": 25,
     "metadata": {},
     "output_type": "execute_result"
    }
   ],
   "source": [
    "rot.eigenvals()"
   ]
  },
  {
   "cell_type": "markdown",
   "metadata": {},
   "source": [
    "## Code Generation"
   ]
  },
  {
   "cell_type": "code",
   "execution_count": 26,
   "metadata": {
    "collapsed": false
   },
   "outputs": [
    {
     "data": {
      "image/png": "[encoded data removed]",
      "text/latex": [
       "$$\\frac{\\sqrt{6} x}{81} \\left(- \\frac{2 x}{3} + 4\\right) e^{- \\frac{x}{3}}$$"
      ],
      "text/plain": [
       "                  -x \n",
       "                  ───\n",
       "     ⎛  2⋅x    ⎞   3 \n",
       "√6⋅x⋅⎜- ─── + 4⎟⋅ℯ   \n",
       "     ⎝   3     ⎠     \n",
       "─────────────────────\n",
       "          81         "
      ]
     },
     "execution_count": 26,
     "metadata": {},
     "output_type": "execute_result"
    }
   ],
   "source": [
    "from sympy.physics.hydrogen import R_nl\n",
    "expr = R_nl(3, 1, x, 1)\n",
    "expr"
   ]
  },
  {
   "cell_type": "code",
   "execution_count": 27,
   "metadata": {
    "collapsed": true
   },
   "outputs": [],
   "source": [
    "from sympy.utilities.lambdify import lambdify\n",
    "fn_numpy = lambdify(x, expr, 'numpy')"
   ]
  },
  {
   "cell_type": "code",
   "execution_count": 28,
   "metadata": {
    "collapsed": false
   },
   "outputs": [
    {
     "data": {
      "text/plain": [
       "array([ 0.        ,  0.02666343,  0.0469299 ,  0.06182246,  0.07222782])"
      ]
     },
     "execution_count": 28,
     "metadata": {},
     "output_type": "execute_result"
    }
   ],
   "source": [
    "from numpy import linspace\n",
    "xx = linspace(0, 1, 5)\n",
    "fn_numpy(xx)"
   ]
  },
  {
   "cell_type": "markdown",
   "metadata": {},
   "source": [
    "## Plot from Matplotlib"
   ]
  },
  {
   "cell_type": "code",
   "execution_count": 29,
   "metadata": {
    "collapsed": true
   },
   "outputs": [],
   "source": [
    "from matplotlib.pyplot import plot, show, legend\n",
    "%matplotlib inline"
   ]
  },
  {
   "cell_type": "code",
   "execution_count": 30,
   "metadata": {
    "collapsed": false
   },
   "outputs": [
    {
     "data": {
      "text/plain": [
       "[<matplotlib.lines.Line2D at 0x7f20f0ea7e50>]"
      ]
     },
     "execution_count": 30,
     "metadata": {},
     "output_type": "execute_result"
    },
    {
     "data": {
      "image/png": "[encoded data removed]",
      "text/plain": [
       "<matplotlib.figure.Figure at 0x7f20f0f2fdd0>"
      ]
     },
     "metadata": {},
     "output_type": "display_data"
    }
   ],
   "source": [
    "xx = linspace(0, 5, 50000)  # More points \n",
    "plot(xx, fn_numpy(xx))"
   ]
  },
  {
   "cell_type": "markdown",
   "metadata": {},
   "source": [
    "## Generating Code"
   ]
  },
  {
   "cell_type": "code",
   "execution_count": 31,
   "metadata": {
    "collapsed": false
   },
   "outputs": [
    {
     "data": {
      "text/plain": [
       "[('expr.c',\n",
       "  '/******************************************************************************\\n *                       Code generated with sympy 1.0                        *\\n *                                                                            *\\n *              See http://www.sympy.org/ for more information.               *\\n *                                                                            *\\n *                       This file is part of \\'project\\'                       *\\n ******************************************************************************/\\n#include \"expr.h\"\\n#include <math.h>\\n\\ndouble expr(double x) {\\n\\n   double expr_result;\\n   expr_result = (1.0L/81.0L)*sqrt(6)*x*(-2.0L/3.0L*x + 4)*exp(-1.0L/3.0L*x);\\n   return expr_result;\\n\\n}\\n'),\n",
       " ('expr.h',\n",
       "  \"/******************************************************************************\\n *                       Code generated with sympy 1.0                        *\\n *                                                                            *\\n *              See http://www.sympy.org/ for more information.               *\\n *                                                                            *\\n *                       This file is part of 'project'                       *\\n ******************************************************************************/\\n\\n\\n#ifndef PROJECT__EXPR__H\\n#define PROJECT__EXPR__H\\n\\ndouble expr(double x);\\n\\n#endif\\n\\n\")]"
      ]
     },
     "execution_count": 31,
     "metadata": {},
     "output_type": "execute_result"
    }
   ],
   "source": [
    "from sympy.utilities.codegen import codegen\n",
    "codegen(('expr', expr), 'C')"
   ]
  },
  {
   "cell_type": "markdown",
   "metadata": {},
   "source": [
    "## Low Dependencies"
   ]
  },
  {
   "cell_type": "code",
   "execution_count": 32,
   "metadata": {
    "collapsed": false
   },
   "outputs": [
    {
     "name": "stdout",
     "output_type": "stream",
     "text": [
      "      9 |                                                        \n",
      "        |  .                                                    /\n",
      "        |   \\                                                  / \n",
      "        |    \\                                                /  \n",
      "        |     \\                                              /   \n",
      "        |      \\                                            .    \n",
      "        |       \\                                                \n",
      "        |        \\                                        ..     \n",
      "4.50149 | --------\\--------------------------------------/-------\n",
      "        |          \\                                    /        \n",
      "        |           \\                                  /         \n",
      "        |            \\                                /          \n",
      "        |             ..                            ..           \n",
      "        |               \\                          /             \n",
      "        |                ..                      ..              \n",
      "        |                  ..                  ..                \n",
      "        |                    ..              ..                  \n",
      "0.00297 |                      ..............                    \n",
      "          -3                     0                          3\n"
     ]
    }
   ],
   "source": [
    "textplot(x**2, -3, 3)"
   ]
  },
  {
   "cell_type": "code",
   "execution_count": null,
   "metadata": {
    "collapsed": true
   },
   "outputs": [],
   "source": []
  }
 ],
 "metadata": {
  "kernelspec": {
   "display_name": "Python 2",
   "language": "python",
   "name": "python2"
  },
  "language_info": {
   "codemirror_mode": {
    "name": "ipython",
    "version": 2
   },
   "file_extension": ".py",
   "mimetype": "text/x-python",
   "name": "python",
   "nbconvert_exporter": "python",
   "pygments_lexer": "ipython2",
   "version": "2.7.11"
  }
 },
 "nbformat": 4,
 "nbformat_minor": 0
}
