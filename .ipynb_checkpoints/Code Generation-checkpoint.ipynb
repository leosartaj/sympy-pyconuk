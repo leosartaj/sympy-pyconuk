{
 "cells": [
  {
   "cell_type": "code",
   "execution_count": 1,
   "metadata": {
    "collapsed": true
   },
   "outputs": [],
   "source": [
    "from sympy import *\n",
    "from sympy.physics.hydrogen import R_nl\n",
    "init_printing()\n",
    "\n",
    "x = symbols('x')"
   ]
  },
  {
   "cell_type": "markdown",
   "metadata": {},
   "source": [
    "## Code Generation"
   ]
  },
  {
   "cell_type": "code",
   "execution_count": 2,
   "metadata": {
    "collapsed": false
   },
   "outputs": [
    {
     "data": {
      "image/png": "[encoded data removed]",
      "text/latex": [
       "$$\\frac{\\sqrt{6} x}{81} \\left(- \\frac{2 x}{3} + 4\\right) e^{- \\frac{x}{3}}$$"
      ],
      "text/plain": [
       "                  -x \n",
       "                  ───\n",
       "     ⎛  2⋅x    ⎞   3 \n",
       "√6⋅x⋅⎜- ─── + 4⎟⋅ℯ   \n",
       "     ⎝   3     ⎠     \n",
       "─────────────────────\n",
       "          81         "
      ]
     },
     "execution_count": 2,
     "metadata": {},
     "output_type": "execute_result"
    }
   ],
   "source": [
    "expr = R_nl(3, 1, x, 1)\n",
    "expr"
   ]
  },
  {
   "cell_type": "code",
   "execution_count": 3,
   "metadata": {
    "collapsed": true
   },
   "outputs": [],
   "source": [
    "from sympy.utilities.lambdify import lambdify\n",
    "fn_numpy = lambdify(x, expr, 'numpy')"
   ]
  },
  {
   "cell_type": "code",
   "execution_count": 12,
   "metadata": {
    "collapsed": false
   },
   "outputs": [
    {
     "data": {
      "text/plain": [
       "array([ 0.        ,  0.02666343,  0.0469299 ,  0.06182246,  0.07222782])"
      ]
     },
     "execution_count": 12,
     "metadata": {},
     "output_type": "execute_result"
    }
   ],
   "source": [
    "from numpy import linspace\n",
    "xx = linspace(0, 1, 5)\n",
    "fn_numpy(xx)"
   ]
  },
  {
   "cell_type": "markdown",
   "metadata": {},
   "source": [
    "## Plot from Matplotlib"
   ]
  },
  {
   "cell_type": "code",
   "execution_count": null,
   "metadata": {
    "collapsed": true
   },
   "outputs": [],
   "source": [
    "from matplotlib.pyplot import plot, show, legend\n",
    "%matplotlib inline"
   ]
  },
  {
   "cell_type": "code",
   "execution_count": null,
   "metadata": {
    "collapsed": true
   },
   "outputs": [],
   "source": [
    "xx = linspace(0, 5, 50000)  # More points \n",
    "plot(xx, fn_numpy(xx))"
   ]
  },
  {
   "cell_type": "code",
   "execution_count": null,
   "metadata": {
    "collapsed": true
   },
   "outputs": [],
   "source": [
    "# Time fn_numpy\n",
    "%timeit fn_numpy(xx)"
   ]
  },
  {
   "cell_type": "markdown",
   "metadata": {},
   "source": [
    "## Codegen"
   ]
  },
  {
   "cell_type": "code",
   "execution_count": 11,
   "metadata": {
    "collapsed": false
   },
   "outputs": [
    {
     "data": {
      "text/plain": [
       "[('expr.m',\n",
       "  \"function out1 = expr(x)\\n  %EXPR  Autogenerated by sympy\\n  %   Code generated with sympy 1.0\\n  %\\n  %   See http://www.sympy.org/ for more information.\\n  %\\n  %   This file is part of 'project'\\n\\n  out1 = sqrt(6)*x.*(-2*x/3 + 4).*exp(-x/3)/81;\\n\\nend\\n\")]"
      ]
     },
     "execution_count": 11,
     "metadata": {},
     "output_type": "execute_result"
    }
   ],
   "source": [
    "from sympy.utilities.codegen import codegen\n",
    "codegen(('expr', expr), 'Octave')"
   ]
  },
  {
   "cell_type": "code",
   "execution_count": 13,
   "metadata": {
    "collapsed": false
   },
   "outputs": [
    {
     "data": {
      "text/plain": [
       "[('expr.c',\n",
       "  '/******************************************************************************\\n *                       Code generated with sympy 1.0                        *\\n *                                                                            *\\n *              See http://www.sympy.org/ for more information.               *\\n *                                                                            *\\n *                       This file is part of \\'project\\'                       *\\n ******************************************************************************/\\n#include \"expr.h\"\\n#include <math.h>\\n\\ndouble expr(double x) {\\n\\n   double expr_result;\\n   expr_result = (1.0L/81.0L)*sqrt(6)*x*(-2.0L/3.0L*x + 4)*exp(-1.0L/3.0L*x);\\n   return expr_result;\\n\\n}\\n'),\n",
       " ('expr.h',\n",
       "  \"/******************************************************************************\\n *                       Code generated with sympy 1.0                        *\\n *                                                                            *\\n *              See http://www.sympy.org/ for more information.               *\\n *                                                                            *\\n *                       This file is part of 'project'                       *\\n ******************************************************************************/\\n\\n\\n#ifndef PROJECT__EXPR__H\\n#define PROJECT__EXPR__H\\n\\ndouble expr(double x);\\n\\n#endif\\n\\n\")]"
      ]
     },
     "execution_count": 13,
     "metadata": {},
     "output_type": "execute_result"
    }
   ],
   "source": [
    "codegen(('expr', expr), 'C')"
   ]
  },
  {
   "cell_type": "code",
   "execution_count": null,
   "metadata": {
    "collapsed": true
   },
   "outputs": [],
   "source": []
  }
 ],
 "metadata": {
  "kernelspec": {
   "display_name": "Python 2",
   "language": "python",
   "name": "python2"
  },
  "language_info": {
   "codemirror_mode": {
    "name": "ipython",
    "version": 2
   },
   "file_extension": ".py",
   "mimetype": "text/x-python",
   "name": "python",
   "nbconvert_exporter": "python",
   "pygments_lexer": "ipython2",
   "version": "2.7.11"
  }
 },
 "nbformat": 4,
 "nbformat_minor": 0
}
